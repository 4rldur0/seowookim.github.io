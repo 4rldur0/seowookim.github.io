{
 "cells": [
  {
   "cell_type": "code",
   "execution_count": 1,
   "id": "43fd8816",
   "metadata": {},
   "outputs": [],
   "source": [
    "# 데이터 전처리\n",
    "# Subword Text Encoder 사용하기\n",
    "# 트랜스포머 모델 구현\n",
    "# 모델 평가"
   ]
  },
  {
   "cell_type": "code",
   "execution_count": 2,
   "id": "1c0e9c80",
   "metadata": {},
   "outputs": [],
   "source": [
    "import tensorflow as tf\n",
    "import tensorflow_datasets as tfds\n",
    "import os\n",
    "import re\n",
    "import numpy as np\n",
    "import matplotlib.pyplot as plt"
   ]
  },
  {
   "cell_type": "code",
   "execution_count": 3,
   "id": "20c6765b",
   "metadata": {},
   "outputs": [],
   "source": [
    "import pandas as pd"
   ]
  },
  {
   "cell_type": "code",
   "execution_count": 4,
   "id": "f40d8479",
   "metadata": {},
   "outputs": [],
   "source": [
    "data_path = os.path.join(os.getenv('HOME'), 'aiffel/transformer_chatbo/data/ChatbotData .csv')"
   ]
  },
  {
   "cell_type": "code",
   "execution_count": 5,
   "id": "d489c281",
   "metadata": {},
   "outputs": [],
   "source": [
    "MAX_SAMPLES = 50000"
   ]
  },
  {
   "cell_type": "code",
   "execution_count": 6,
   "id": "850a5975",
   "metadata": {},
   "outputs": [],
   "source": [
    "#전처리 함수\n",
    "def preprocess_sentence(sentence):\n",
    "    # 양쪽 공백을 제거\n",
    "    sentence = sentence.strip()\n",
    "\n",
    "    # 단어와 구두점(punctuation) 사이의 거리를 만듭니다.\n",
    "    # 예를 들어서 \"나는 학생입니다.\" => \"나는 학생입니다 .\"와 같이\n",
    "    # 학생과 온점 사이에 거리를 만듭니다.\n",
    "    sentence = re.sub(r\"([?.!,])\", r\" \\1 \", sentence)\n",
    "    sentence = re.sub(r'[\" \"]+', \" \", sentence)\n",
    "\n",
    "    # (가-힣, \".\", \"?\", \"!\", \",\")를 제외한 모든 문자를 공백인 ' '로 대체합니다.\n",
    "    sentence = re.sub(r'[^가-힣.?!,]', ' ', sentence)\n",
    "    sentence = sentence.strip()\n",
    "    return sentence"
   ]
  },
  {
   "cell_type": "code",
   "execution_count": 7,
   "id": "e56b5939",
   "metadata": {},
   "outputs": [],
   "source": [
    "data =pd.read_csv(data_path)"
   ]
  },
  {
   "cell_type": "code",
   "execution_count": 8,
   "id": "17d5817c",
   "metadata": {},
   "outputs": [
    {
     "data": {
      "text/html": [
       "<div>\n",
       "<style scoped>\n",
       "    .dataframe tbody tr th:only-of-type {\n",
       "        vertical-align: middle;\n",
       "    }\n",
       "\n",
       "    .dataframe tbody tr th {\n",
       "        vertical-align: top;\n",
       "    }\n",
       "\n",
       "    .dataframe thead th {\n",
       "        text-align: right;\n",
       "    }\n",
       "</style>\n",
       "<table border=\"1\" class=\"dataframe\">\n",
       "  <thead>\n",
       "    <tr style=\"text-align: right;\">\n",
       "      <th></th>\n",
       "      <th>Q</th>\n",
       "      <th>A</th>\n",
       "      <th>label</th>\n",
       "    </tr>\n",
       "  </thead>\n",
       "  <tbody>\n",
       "    <tr>\n",
       "      <th>0</th>\n",
       "      <td>12시 땡!</td>\n",
       "      <td>하루가 또 가네요.</td>\n",
       "      <td>0</td>\n",
       "    </tr>\n",
       "    <tr>\n",
       "      <th>1</th>\n",
       "      <td>1지망 학교 떨어졌어</td>\n",
       "      <td>위로해 드립니다.</td>\n",
       "      <td>0</td>\n",
       "    </tr>\n",
       "    <tr>\n",
       "      <th>2</th>\n",
       "      <td>3박4일 놀러가고 싶다</td>\n",
       "      <td>여행은 언제나 좋죠.</td>\n",
       "      <td>0</td>\n",
       "    </tr>\n",
       "    <tr>\n",
       "      <th>3</th>\n",
       "      <td>3박4일 정도 놀러가고 싶다</td>\n",
       "      <td>여행은 언제나 좋죠.</td>\n",
       "      <td>0</td>\n",
       "    </tr>\n",
       "    <tr>\n",
       "      <th>4</th>\n",
       "      <td>PPL 심하네</td>\n",
       "      <td>눈살이 찌푸려지죠.</td>\n",
       "      <td>0</td>\n",
       "    </tr>\n",
       "    <tr>\n",
       "      <th>...</th>\n",
       "      <td>...</td>\n",
       "      <td>...</td>\n",
       "      <td>...</td>\n",
       "    </tr>\n",
       "    <tr>\n",
       "      <th>11818</th>\n",
       "      <td>훔쳐보는 것도 눈치 보임.</td>\n",
       "      <td>티가 나니까 눈치가 보이는 거죠!</td>\n",
       "      <td>2</td>\n",
       "    </tr>\n",
       "    <tr>\n",
       "      <th>11819</th>\n",
       "      <td>훔쳐보는 것도 눈치 보임.</td>\n",
       "      <td>훔쳐보는 거 티나나봐요.</td>\n",
       "      <td>2</td>\n",
       "    </tr>\n",
       "    <tr>\n",
       "      <th>11820</th>\n",
       "      <td>흑기사 해주는 짝남.</td>\n",
       "      <td>설렜겠어요.</td>\n",
       "      <td>2</td>\n",
       "    </tr>\n",
       "    <tr>\n",
       "      <th>11821</th>\n",
       "      <td>힘든 연애 좋은 연애라는게 무슨 차이일까?</td>\n",
       "      <td>잘 헤어질 수 있는 사이 여부인 거 같아요.</td>\n",
       "      <td>2</td>\n",
       "    </tr>\n",
       "    <tr>\n",
       "      <th>11822</th>\n",
       "      <td>힘들어서 결혼할까봐</td>\n",
       "      <td>도피성 결혼은 하지 않길 바라요.</td>\n",
       "      <td>2</td>\n",
       "    </tr>\n",
       "  </tbody>\n",
       "</table>\n",
       "<p>11823 rows × 3 columns</p>\n",
       "</div>"
      ],
      "text/plain": [
       "                             Q                         A  label\n",
       "0                       12시 땡!                하루가 또 가네요.      0\n",
       "1                  1지망 학교 떨어졌어                 위로해 드립니다.      0\n",
       "2                 3박4일 놀러가고 싶다               여행은 언제나 좋죠.      0\n",
       "3              3박4일 정도 놀러가고 싶다               여행은 언제나 좋죠.      0\n",
       "4                      PPL 심하네                눈살이 찌푸려지죠.      0\n",
       "...                        ...                       ...    ...\n",
       "11818           훔쳐보는 것도 눈치 보임.        티가 나니까 눈치가 보이는 거죠!      2\n",
       "11819           훔쳐보는 것도 눈치 보임.             훔쳐보는 거 티나나봐요.      2\n",
       "11820              흑기사 해주는 짝남.                    설렜겠어요.      2\n",
       "11821  힘든 연애 좋은 연애라는게 무슨 차이일까?  잘 헤어질 수 있는 사이 여부인 거 같아요.      2\n",
       "11822               힘들어서 결혼할까봐        도피성 결혼은 하지 않길 바라요.      2\n",
       "\n",
       "[11823 rows x 3 columns]"
      ]
     },
     "execution_count": 8,
     "metadata": {},
     "output_type": "execute_result"
    }
   ],
   "source": [
    "#확인!\n",
    "\n",
    "data"
   ]
  },
  {
   "cell_type": "code",
   "execution_count": 11,
   "id": "d51f9bb0",
   "metadata": {},
   "outputs": [],
   "source": [
    "#대화 가져오기 \n",
    "\n",
    "def load_conversations(data_path, max_samples=None):\n",
    "    data = pd.read_csv(data_path)\n",
    "    \n",
    "    inputs = []\n",
    "    outputs = []\n",
    "    \n",
    "    for idx, row in data.iterrows():\n",
    "        question = preprocess_sentence(row['Q'])\n",
    "        answer = preprocess_sentence(row['A'])\n",
    "        \n",
    "        inputs.append(question)\n",
    "        outputs.append(answer)\n",
    "        \n",
    "        if max_samples and len(inputs) >= max_samples:\n",
    "            break\n",
    "    \n",
    "    return inputs, outputs"
   ]
  },
  {
   "cell_type": "code",
   "execution_count": 12,
   "id": "5d5c5562",
   "metadata": {},
   "outputs": [
    {
     "name": "stdout",
     "output_type": "stream",
     "text": [
      "전체 샘플 수 : 11823\n",
      "전체 샘플 수 : 11823\n"
     ]
    }
   ],
   "source": [
    "# 데이터 로드하고 Q, A로 저장!\n",
    "questions, answers = load_conversations(data_path)\n",
    "print('전체 샘플 수 :', len(questions))\n",
    "print('전체 샘플 수 :', len(answers))"
   ]
  },
  {
   "cell_type": "code",
   "execution_count": 13,
   "id": "910fcb98",
   "metadata": {},
   "outputs": [
    {
     "name": "stdout",
     "output_type": "stream",
     "text": [
      "전처리 후의 50번째 질문 샘플: 감 말랭이 먹고 싶다 .\n",
      "전처리 후의 50번째 답변 샘플: 맛있게 드세요 .\n"
     ]
    }
   ],
   "source": [
    "# 전처리 잘 되었나 확인\n",
    "print('전처리 후의 50번째 질문 샘플: {}'.format(questions[49]))\n",
    "print('전처리 후의 50번째 답변 샘플: {}'.format(answers[49]))"
   ]
  },
  {
   "cell_type": "markdown",
   "id": "c38c4e78",
   "metadata": {},
   "source": [
    "=> 구두점들이 단어들과 분리되어 단어와 구두점 사이에는 공백이 추가된 것을 확인할 수 있습니다. 이렇게 함으로써 단어를 토크나이징 하는 과정에서 구두점과 붙어있던 단어들을 하나의 단어로 인식하는 것을 방지할 수 있습니다."
   ]
  },
  {
   "cell_type": "markdown",
   "id": "6aa4cbb4",
   "metadata": {},
   "source": [
    "# 단어장 크기 늘림! \n",
    "\n",
    "- 한국어 텍스트 처리는 보통 8000~32000 사이의 크기를 사용 (일상 대화)\n",
    "- 법률 문서나 의학 논문 등은 더 큰 거 (16000~50000)"
   ]
  },
  {
   "cell_type": "code",
   "execution_count": 14,
   "id": "d86ec1ea",
   "metadata": {},
   "outputs": [
    {
     "name": "stdout",
     "output_type": "stream",
     "text": [
      "어휘 크기: 21691\n"
     ]
    }
   ],
   "source": [
    "#단어장 만들기 (각 단어에 고유한 정수 인덱스 부여)\n",
    "\n",
    "tokenizer = tfds.deprecated.text.SubwordTextEncoder.build_from_corpus(questions + answers, target_vocab_size=2**14)\n",
    "\n",
    "print(f\"어휘 크기: {tokenizer.vocab_size}\")"
   ]
  },
  {
   "cell_type": "markdown",
   "id": "27a7e239",
   "metadata": {},
   "source": [
    "### 어휘 크기 늘린 후"
   ]
  },
  {
   "cell_type": "code",
   "execution_count": 15,
   "id": "d21f3b59",
   "metadata": {},
   "outputs": [
    {
     "name": "stdout",
     "output_type": "stream",
     "text": [
      "원본 문장: 시 땡 !\n",
      "토큰화된 문장: [15418, 18414, 23]\n",
      "디코딩된 문장: 시 땡 !\n",
      "원본 문장: 하루가 또 가네요 .\n",
      "토큰화된 문장: [2051, 45, 3891, 1]\n",
      "디코딩된 문장: 하루가 또 가네요 .\n"
     ]
    }
   ],
   "source": [
    "# 예시 출력, 토큰화 잘 되었나-questions\n",
    "sample_string = questions[0]\n",
    "tokenized_string = tokenizer.encode(sample_string)\n",
    "original_string = tokenizer.decode(tokenized_string)\n",
    "\n",
    "print(f'원본 문장: {sample_string}')\n",
    "print(f'토큰화된 문장: {tokenized_string}')\n",
    "print(f'디코딩된 문장: {original_string}')\n",
    "\n",
    "# 예시 출력, 토큰화 잘 되었나-answers\n",
    "sample_string = answers[0]\n",
    "tokenized_string = tokenizer.encode(sample_string)\n",
    "original_string = tokenizer.decode(tokenized_string)\n",
    "\n",
    "print(f'원본 문장: {sample_string}')\n",
    "print(f'토큰화된 문장: {tokenized_string}')\n",
    "print(f'디코딩된 문장: {original_string}')"
   ]
  },
  {
   "cell_type": "markdown",
   "id": "906a051a",
   "metadata": {},
   "source": [
    "### 원본 결과와 비교 "
   ]
  },
  {
   "cell_type": "code",
   "execution_count": 41,
   "id": "68bc4f72",
   "metadata": {},
   "outputs": [
    {
     "name": "stdout",
     "output_type": "stream",
     "text": [
      "원본 문장: 시 땡 !\n",
      "토큰화된 문장: [5161, 3053, 42]\n",
      "디코딩된 문장: 시 땡 !\n",
      "원본 문장: 하루가 또 가네요 .\n",
      "토큰화된 문장: [3836, 74, 7865, 1]\n",
      "디코딩된 문장: 하루가 또 가네요 .\n"
     ]
    }
   ],
   "source": [
    "# 예시 출력, 토큰화 잘 되었나-questions\n",
    "sample_string = questions[0]\n",
    "tokenized_string = tokenizer.encode(sample_string)\n",
    "original_string = tokenizer.decode(tokenized_string)\n",
    "\n",
    "print(f'원본 문장: {sample_string}')\n",
    "print(f'토큰화된 문장: {tokenized_string}')\n",
    "print(f'디코딩된 문장: {original_string}')\n",
    "\n",
    "# 예시 출력, 토큰화 잘 되었나-answers\n",
    "sample_string = answers[0]\n",
    "tokenized_string = tokenizer.encode(sample_string)\n",
    "original_string = tokenizer.decode(tokenized_string)\n",
    "\n",
    "print(f'원본 문장: {sample_string}')\n",
    "print(f'토큰화된 문장: {tokenized_string}')\n",
    "print(f'디코딩된 문장: {original_string}')"
   ]
  },
  {
   "cell_type": "code",
   "execution_count": 16,
   "id": "c5c95349",
   "metadata": {},
   "outputs": [],
   "source": [
    "# 시작 토큰과 종료 토큰에 고유한 정수를 부여\n",
    "START_TOKEN, END_TOKEN = [tokenizer.vocab_size], [tokenizer.vocab_size + 1]\n",
    "\n",
    "#START_TOKEN은 8192, END_TOKEN은 8193의 값을 가집니다. 이는 어휘 목록의 마지막 인덱스 이후에 두 개의 새로운 토큰을 추가하는 것입니다."
   ]
  },
  {
   "cell_type": "markdown",
   "id": "d948ebf4",
   "metadata": {},
   "source": [
    "### 새로 만든 토큰 번호"
   ]
  },
  {
   "cell_type": "code",
   "execution_count": 17,
   "id": "666d0cf8",
   "metadata": {},
   "outputs": [
    {
     "name": "stdout",
     "output_type": "stream",
     "text": [
      "START_TOKEN의 번호 : [21691]\n",
      "END_TOKEN의 번호 : [21692]\n"
     ]
    }
   ],
   "source": [
    "print('START_TOKEN의 번호 :' ,[tokenizer.vocab_size])\n",
    "print('END_TOKEN의 번호 :' ,[tokenizer.vocab_size + 1])"
   ]
  },
  {
   "cell_type": "code",
   "execution_count": 39,
   "id": "9d62fed5",
   "metadata": {},
   "outputs": [
    {
     "name": "stdout",
     "output_type": "stream",
     "text": [
      "START_TOKEN의 번호 : [8132]\n",
      "END_TOKEN의 번호 : [8133]\n"
     ]
    }
   ],
   "source": [
    "#옛날 거\n",
    "#print('START_TOKEN의 번호 :' ,[tokenizer.vocab_size])\n",
    "#print('END_TOKEN의 번호 :' ,[tokenizer.vocab_size + 1])"
   ]
  },
  {
   "cell_type": "code",
   "execution_count": 18,
   "id": "25648fc0",
   "metadata": {},
   "outputs": [
    {
     "name": "stdout",
     "output_type": "stream",
     "text": [
      "21693\n"
     ]
    }
   ],
   "source": [
    "# start, end 추가되었으므로 vocabsize 더 커졌음을 알려주기\n",
    "VOCAB_SIZE = tokenizer.vocab_size + 2\n",
    "print(VOCAB_SIZE)"
   ]
  },
  {
   "cell_type": "code",
   "execution_count": 19,
   "id": "894ab5f9",
   "metadata": {},
   "outputs": [],
   "source": [
    "# 패딩하기 전 max_len 구해야 함\n",
    "\n",
    "input_lengths = [len(sentence.split()) for sentence in questions]\n",
    "output_lengths = [len(sentence.split()) for sentence in answers]\n"
   ]
  },
  {
   "cell_type": "code",
   "execution_count": 20,
   "id": "d1e97f88",
   "metadata": {},
   "outputs": [
    {
     "name": "stdout",
     "output_type": "stream",
     "text": [
      "질문 길이의 95% 백분위수: 7.0\n",
      "답변 길이의 95% 백분위수: 8.0\n",
      "질문 길이의 99% 백분위수: 10.0\n",
      "답변 길이의 99% 백분위수: 11.0\n"
     ]
    }
   ],
   "source": [
    "print(f\"질문 길이의 95% 백분위수: {np.percentile(input_lengths, 95)}\")\n",
    "print(f\"답변 길이의 95% 백분위수: {np.percentile(output_lengths, 95)}\")\n",
    "print(f\"질문 길이의 99% 백분위수: {np.percentile(input_lengths, 99)}\")\n",
    "print(f\"답변 길이의 99% 백분위수: {np.percentile(output_lengths, 99)}\")"
   ]
  },
  {
   "cell_type": "code",
   "execution_count": 21,
   "id": "9887e450",
   "metadata": {},
   "outputs": [],
   "source": [
    "#정수 인코딩 및 패딩\n",
    "MAX_LENGTH = 11  #가장 높은 99% 백분위수 기준\n",
    "\n",
    "# 정수 인코딩, 최대 길이를 초과하는 샘플 제거, 패딩\n",
    "def tokenize_and_filter(inputs, outputs):\n",
    "    tokenized_inputs, tokenized_outputs = [], []\n",
    "    for (sentence1, sentence2) in zip(inputs, outputs):\n",
    "        sentence1 = START_TOKEN + tokenizer.encode(sentence1) + END_TOKEN  #question 각 문장들에 start, end token 붙이기\n",
    "        sentence2 = START_TOKEN + tokenizer.encode(sentence2) + END_TOKEN  #answer 문장들에 똑같이!!!\n",
    "\n",
    "        # 최대 길이 11 이하인 경우에만 데이터셋으로 허용\n",
    "        if len(sentence1) <= MAX_LENGTH and len(sentence2) <= MAX_LENGTH:\n",
    "            tokenized_inputs.append(sentence1)\n",
    "            tokenized_outputs.append(sentence2)\n",
    "\n",
    "      # 최대 길이 11으로 모든 데이터셋을 패딩\n",
    "    tokenized_inputs = tf.keras.preprocessing.sequence.pad_sequences(\n",
    "        tokenized_inputs, maxlen=MAX_LENGTH, padding='post')\n",
    "    tokenized_outputs = tf.keras.preprocessing.sequence.pad_sequences(\n",
    "        tokenized_outputs, maxlen=MAX_LENGTH, padding='post')\n",
    "  \n",
    "    return tokenized_inputs, tokenized_outputs"
   ]
  },
  {
   "cell_type": "code",
   "execution_count": 22,
   "id": "cfb76695",
   "metadata": {},
   "outputs": [
    {
     "name": "stdout",
     "output_type": "stream",
     "text": [
      "단어장의 크기 : 21693\n",
      "필터링 후의 질문 샘플 개수: 11439\n",
      "필터링 후의 답변 샘플 개수: 11439\n"
     ]
    }
   ],
   "source": [
    "questions, answers = tokenize_and_filter(questions, answers)\n",
    "print('단어장의 크기 :',(VOCAB_SIZE))\n",
    "print('필터링 후의 질문 샘플 개수: {}'.format(len(questions)))\n",
    "print('필터링 후의 답변 샘플 개수: {}'.format(len(answers)))"
   ]
  },
  {
   "cell_type": "markdown",
   "id": "5b5295f4",
   "metadata": {},
   "source": [
    "# 비교\n",
    "- 원래는 단어장 크기가 2**13, max_length 10으로 설정했을 때"
   ]
  },
  {
   "cell_type": "code",
   "execution_count": 46,
   "id": "8869cc34",
   "metadata": {},
   "outputs": [
    {
     "name": "stdout",
     "output_type": "stream",
     "text": [
      "단어장의 크기 : 8134\n",
      "필터링 후의 질문 샘플 개수: 9103\n",
      "필터링 후의 답변 샘플 개수: 9103\n"
     ]
    }
   ],
   "source": [
    "questions, answers = tokenize_and_filter(questions, answers)\n",
    "print('단어장의 크기 :',(VOCAB_SIZE))\n",
    "print('필터링 후의 질문 샘플 개수: {}'.format(len(questions)))\n",
    "print('필터링 후의 답변 샘플 개수: {}'.format(len(answers)))\n",
    "\n",
    "#dnj"
   ]
  },
  {
   "cell_type": "code",
   "execution_count": 23,
   "id": "ae7b7295",
   "metadata": {},
   "outputs": [],
   "source": [
    "BATCH_SIZE = 32 ##나의 작고 소중한 노트북을 위해 \n",
    "BUFFER_SIZE = 9103  #데이터셋에서 셔플할 때 사용. len(샘플 수)\n",
    "\n",
    "# 텐서를 입력으로 받아서 데이터셋 생성 (from_tensor_slices)\n",
    "# dec_inputs는 answer에서 마지막 토큰을 제외 => 이전 단어 참고해서 다음 단어 에측 \n",
    "# output은 답변에서 첫 번째 토큰을 제외 => 모델이 예측해야 하는 실제 정답 시퀀스, 첫부분은 아마 start token이라? \n",
    "dataset = tf.data.Dataset.from_tensor_slices((    \n",
    "    {\n",
    "        'inputs': questions,\n",
    "        'dec_inputs': answers[:, :-1]\n",
    "    },\n",
    "    {\n",
    "        'outputs': answers[:, 1:]\n",
    "    },\n",
    "))\n",
    "\n",
    "dataset = dataset.cache()  #반복적인 데이터 로드 안하게 함 \n",
    "dataset = dataset.shuffle(BUFFER_SIZE)\n",
    "dataset = dataset.batch(BATCH_SIZE)\n",
    "dataset = dataset.prefetch(tf.data.experimental.AUTOTUNE)  #학습 수행 동안 다음 배치 미리 불러오기 "
   ]
  },
  {
   "cell_type": "markdown",
   "id": "8c955db7",
   "metadata": {},
   "source": [
    "# 필요한 함수 모음"
   ]
  },
  {
   "cell_type": "code",
   "execution_count": 25,
   "id": "b886242a",
   "metadata": {},
   "outputs": [],
   "source": [
    "# 패딩 마스크, 룩어헤드 마스크 가져오기\n",
    "# 패딩 마스크: 입력 시퀀스의 패딩된 부분을 마스킹해서 모델이 이를 무시하도록 함\n",
    "# 룩어헤드 마스크: 디코더에서 미래 단어를 보지 못하도록 마스킹해서 시퀀스 예측을 도움\n",
    "\n",
    "def create_padding_mask(x):  #x = 입력 시퀀스\n",
    "    mask = tf.cast(tf.math.equal(x, 0), tf.float32)  #시퀀스에서 0인 부분을 찾고 bool 반환 후, 실수 배열로 다시 반환 \n",
    "    return mask[:, tf.newaxis, tf.newaxis, :] # (batch_size, 1, 1, sequence length)\n",
    "\n",
    "def create_lookahead_mask(x):\n",
    "    seq_len = tf.shape(x)[1]\n",
    "    look_ahead_mask = 1 - tf.linalg.band_part(tf.ones((seq_len, seq_len)), -1, 0)\n",
    "    padding_mask = create_padding_mask(x)\n",
    "    return tf.maximum(look_ahead_mask, padding_mask) "
   ]
  },
  {
   "cell_type": "code",
   "execution_count": 26,
   "id": "1436b4f8",
   "metadata": {},
   "outputs": [],
   "source": [
    "#포지셔널 인코딩 \n",
    "class PositionalEncoding(tf.keras.layers.Layer):\n",
    "\n",
    "    def __init__(self, position, d_model):\n",
    "        super(PositionalEncoding, self).__init__()\n",
    "        self.pos_encoding = self.positional_encoding(position, d_model)\n",
    "    \n",
    "    def get_angles(self, position, i, d_model):\n",
    "        angles = 1 / tf.pow(10000, (2 * (i // 2)) / tf.cast(d_model, tf.float32))\n",
    "        return position * angles\n",
    "\n",
    "    #어제 봤던 그 삼각함수!!!!\n",
    "    \n",
    "    def positional_encoding(self, position, d_model):\n",
    "        # 각도 배열 생성\n",
    "        angle_rads = self.get_angles(\n",
    "            position=tf.range(position, dtype=tf.float32)[:, tf.newaxis], #tf.newaxis는 텐서플로 차원 확장\n",
    "            i=tf.range(d_model, dtype=tf.float32)[tf.newaxis, :],d_model=d_model)\n",
    "        \n",
    "        # 배열의 짝수 인덱스에는 sin 함수 적용\n",
    "        sines = tf.math.sin(angle_rads[:, 0::2])\n",
    "        # 배열의 홀수 인덱스에는 cosine 함수 적용\n",
    "        cosines = tf.math.cos(angle_rads[:, 1::2])\n",
    "        \n",
    "        # sin과 cosine이 교차되도록 재배열\n",
    "        pos_encoding = tf.stack([sines, cosines], axis=0)\n",
    "        pos_encoding = tf.transpose(pos_encoding,[1, 2, 0]) \n",
    "        pos_encoding = tf.reshape(pos_encoding, [position, d_model])\n",
    "        pos_encoding = pos_encoding[tf.newaxis, ...]\n",
    "        \n",
    "        return tf.cast(pos_encoding, tf.float32)\n",
    "        \n",
    "    def call(self, inputs):\n",
    "        return inputs + self.pos_encoding[:, :tf.shape(inputs)[1], :]  "
   ]
  },
  {
   "cell_type": "markdown",
   "id": "0b33bb23",
   "metadata": {},
   "source": [
    "# 형태 요약\n",
    "- query 텐서의 형태: (batch_size, num_heads, seq_len_q, depth)\n",
    "- key 텐서의 형태: (batch_size, num_heads, seq_len_k, depth)\n",
    "- logits 텐서의 형태: (batch_size, num_heads, seq_len_q, seq_len_k)\n"
   ]
  },
  {
   "cell_type": "code",
   "execution_count": 27,
   "id": "b55d43f5",
   "metadata": {},
   "outputs": [],
   "source": [
    "#스케일드 닷 프로덕트 어텐션\n",
    "\n",
    "# 스케일드 닷 프로덕트 어텐션 함수\n",
    "def scaled_dot_product_attention(query, key, value, mask):\n",
    "    # 어텐션 가중치는 Q와 K의 닷 프로덕트\n",
    "    matmul_qk = tf.matmul(query, key, transpose_b=True) #Q*K\n",
    "\n",
    "    # 가중치를 정규화\n",
    "    depth = tf.cast(tf.shape(key)[-1], tf.float32) #임베딩 차원 가져오기\n",
    "    logits = matmul_qk / tf.math.sqrt(depth) \n",
    "\n",
    "    # 패딩에 마스크 추가\n",
    "    if mask is not None:\n",
    "        logits += (mask * -1e9)  #QK에 mask 있으면 뒤에 붙이기\n",
    "\n",
    "    # softmax적용\n",
    "    attention_weights = tf.nn.softmax(logits, axis=-1) #각 쿼리 시퀀스에 대해 모든 키 시퀀스의 중요도를 확률로 변환\n",
    "\n",
    "    # 최종 어텐션은 가중치와 V의 닷 프로덕트\n",
    "    output = tf.matmul(attention_weights, value)\n",
    "    \n",
    "    return output\n"
   ]
  },
  {
   "cell_type": "code",
   "execution_count": 29,
   "id": "e233bb9a",
   "metadata": {},
   "outputs": [],
   "source": [
    "# 멀티헤드 어텐션\n",
    "\n",
    "class MultiHeadAttention(tf.keras.layers.Layer):\n",
    "\n",
    "    def __init__(self, d_model, num_heads, name=\"multi_head_attention\"):\n",
    "        super(MultiHeadAttention, self).__init__(name=name)\n",
    "        self.num_heads = num_heads\n",
    "        self.d_model = d_model\n",
    "\n",
    "        assert d_model % self.num_heads == 0  #assert는 뒤에 쓴 게 참인지 아닌지 확인 \n",
    "\n",
    "        self.depth = d_model // self.num_heads\n",
    "\n",
    "        self.query_dense = tf.keras.layers.Dense(units=d_model)\n",
    "        self.key_dense = tf.keras.layers.Dense(units=d_model)\n",
    "        self.value_dense = tf.keras.layers.Dense(units=d_model)\n",
    "\n",
    "        self.dense = tf.keras.layers.Dense(units=d_model)\n",
    "\n",
    "    def split_heads(self, inputs, batch_size):\n",
    "        inputs = tf.reshape(\n",
    "            inputs, shape=(batch_size, -1, self.num_heads, self.depth)) #self.depth는 각 헤드의 차원 수, -1은 자동계산되는 시퀀스길이\n",
    "        return tf.transpose(inputs, perm=[0, 2, 1, 3])\n",
    "\n",
    "    def call(self, inputs):\n",
    "        query, key, value, mask = inputs['query'], inputs['key'], inputs['value'], inputs['mask']  #다음 인코더 레이어에 나옴 \n",
    "        batch_size = tf.shape(query)[0]\n",
    "\n",
    "        # Q, K, V에 각각 Dense를 적용합니다\n",
    "        query = self.query_dense(query)\n",
    "        key = self.key_dense(key)\n",
    "        value = self.value_dense(value)\n",
    "\n",
    "        # 병렬 연산을 위한 머리를 여러 개 만듭니다\n",
    "        query = self.split_heads(query, batch_size)\n",
    "        key = self.split_heads(key, batch_size)\n",
    "        value = self.split_heads(value, batch_size)\n",
    "\n",
    "        # 스케일드 닷 프로덕트 어텐션 함수\n",
    "        scaled_attention = scaled_dot_product_attention(query, key, value, mask)\n",
    "\n",
    "        scaled_attention = tf.transpose(scaled_attention, perm=[0, 2, 1, 3])\n",
    "\n",
    "        # 어텐션 연산 후에 각 결과를 다시 연결(concatenate)합니다\n",
    "        concat_attention = tf.reshape(scaled_attention,\n",
    "                                      (batch_size, -1, self.d_model))\n",
    "\n",
    "        # 최종 결과에도 Dense를 한 번 더 적용합니다\n",
    "        outputs = self.dense(concat_attention)\n",
    "\n",
    "        return outputs"
   ]
  },
  {
   "cell_type": "markdown",
   "id": "ee29f305",
   "metadata": {},
   "source": [
    "## 머메이드로 그려 본 코드 구조"
   ]
  },
  {
   "attachments": {
    "mermaid-diagram-2024-06-20-152137.png": {
     "image/png": "[encoded data removed]"
    }
   },
   "cell_type": "markdown",
   "id": "a1047b94",
   "metadata": {},
   "source": [
    "![mermaid-diagram-2024-06-20-152137.png](attachment:mermaid-diagram-2024-06-20-152137.png)"
   ]
  },
  {
   "cell_type": "code",
   "execution_count": 30,
   "id": "092e7622",
   "metadata": {},
   "outputs": [],
   "source": [
    "# 인코더 레이어\n",
    "def encoder_layer(units, d_model, num_heads, dropout, name=\"encoder_layer\"):\n",
    "    inputs = tf.keras.Input(shape=(None, d_model), name=\"inputs\")\n",
    "\n",
    "    # 패딩 마스크 사용\n",
    "    padding_mask = tf.keras.Input(shape=(1, 1, None), name=\"padding_mask\") #creat_padding_mask로 미리 생성됨. \n",
    "    \n",
    "    # 첫 번째 서브 레이어 : 멀티 헤드 어텐션 수행 (셀프 어텐션)\n",
    "    attention = MultiHeadAttention(\n",
    "        d_model, num_heads, name=\"attention\")({\n",
    "          'query': inputs,\n",
    "          'key': inputs,\n",
    "          'value': inputs,\n",
    "          'mask': padding_mask\n",
    "        })\n",
    "\n",
    "    # 어텐션의 결과는 Dropout과 Layer Normalization이라는 훈련을 돕는 테크닉을 수행\n",
    "    attention = tf.keras.layers.Dropout(rate=dropout)(attention)\n",
    "    attention = tf.keras.layers.LayerNormalization(\n",
    "        epsilon=1e-6)(inputs + attention)  #잔차 연결\n",
    "\n",
    "    # 두 번째 서브 레이어 : 2개의 완전연결층\n",
    "    outputs = tf.keras.layers.Dense(units=units, activation='relu')(attention)\n",
    "    outputs = tf.keras.layers.Dense(units=d_model)(outputs)\n",
    "\n",
    "    # 완전연결층의 결과는 Dropout과 LayerNormalization이라는 훈련을 돕는 테크닉을 수행\n",
    "    outputs = tf.keras.layers.Dropout(rate=dropout)(outputs)\n",
    "    outputs = tf.keras.layers.LayerNormalization(\n",
    "        epsilon=1e-6)(attention + outputs)#잔차 연결\n",
    "\n",
    "    return tf.keras.Model(inputs=[inputs, padding_mask], outputs=outputs, name=name)"
   ]
  },
  {
   "cell_type": "code",
   "execution_count": 31,
   "id": "416c5d8f",
   "metadata": {},
   "outputs": [],
   "source": [
    "def encoder(vocab_size,\n",
    "            num_layers,\n",
    "            units,\n",
    "            d_model,\n",
    "            num_heads,\n",
    "            dropout,\n",
    "            name=\"encoder\"):\n",
    "    inputs = tf.keras.Input(shape=(None,), name=\"inputs\")\n",
    "\n",
    "    # 패딩 마스크 사용\n",
    "    padding_mask = tf.keras.Input(shape=(1, 1, None), name=\"padding_mask\")\n",
    "\n",
    "    # 임베딩 레이어\n",
    "    embeddings = tf.keras.layers.Embedding(vocab_size, d_model)(inputs)\n",
    "    embeddings *= tf.math.sqrt(tf.cast(d_model, tf.float32))\n",
    "\n",
    "    # 포지셔널 인코딩\n",
    "    embeddings = PositionalEncoding(vocab_size, d_model)(embeddings)\n",
    "\n",
    "    outputs = tf.keras.layers.Dropout(rate=dropout)(embeddings)\n",
    "\n",
    "    # num_layers만큼 쌓아올린 인코더의 층.\n",
    "    for i in range(num_layers):\n",
    "        outputs = encoder_layer(\n",
    "            units=units,\n",
    "            d_model=d_model,\n",
    "            num_heads=num_heads,\n",
    "            dropout=dropout,\n",
    "            name=\"encoder_layer_{}\".format(i),\n",
    "        )([outputs, padding_mask])\n",
    "\n",
    "    return tf.keras.Model(inputs=[inputs, padding_mask], outputs=outputs, name=name)"
   ]
  },
  {
   "cell_type": "code",
   "execution_count": 32,
   "id": "11a33349",
   "metadata": {},
   "outputs": [],
   "source": [
    "# 디코더 하나의 레이어를 함수로 구현.\n",
    "# 이 하나의 레이어 안에는 \"세 개\"의 서브 레이어가 존재합니다.\n",
    "def decoder_layer(units, d_model, num_heads, dropout, name=\"decoder_layer\"):\n",
    "    inputs = tf.keras.Input(shape=(None, d_model), name=\"inputs\")\n",
    "    enc_outputs = tf.keras.Input(shape=(None, d_model), name=\"encoder_outputs\")\n",
    "    look_ahead_mask = tf.keras.Input(\n",
    "      shape=(1, None, None), name=\"look_ahead_mask\")\n",
    "    padding_mask = tf.keras.Input(shape=(1, 1, None), name='padding_mask')\n",
    "\n",
    "    # 첫 번째 서브 레이어 : 멀티 헤드 어텐션 수행 (셀프 어텐션)\n",
    "    attention1 = MultiHeadAttention(\n",
    "      d_model, num_heads, name=\"attention_1\")(inputs={\n",
    "          'query': inputs,\n",
    "          'key': inputs,\n",
    "          'value': inputs,\n",
    "          'mask': look_ahead_mask\n",
    "      })\n",
    "\n",
    "    # 멀티 헤드 어텐션의 결과는 LayerNormalization이라는 훈련을 돕는 테크닉을 수행\n",
    "    attention1 = tf.keras.layers.LayerNormalization(\n",
    "      epsilon=1e-6)(attention1 + inputs)\n",
    "\n",
    "    # 두 번째 서브 레이어 : 마스크드 멀티 헤드 어텐션 수행 (인코더-디코더 어텐션)\n",
    "    attention2 = MultiHeadAttention(\n",
    "      d_model, num_heads, name=\"attention_2\")(inputs={\n",
    "          'query': attention1,\n",
    "          'key': enc_outputs,\n",
    "          'value': enc_outputs,\n",
    "          'mask': padding_mask\n",
    "      })\n",
    "\n",
    "    # 마스크드 멀티 헤드 어텐션의 결과는\n",
    "    # Dropout과 LayerNormalization이라는 훈련을 돕는 테크닉을 수행\n",
    "    attention2 = tf.keras.layers.Dropout(rate=dropout)(attention2)\n",
    "    attention2 = tf.keras.layers.LayerNormalization(\n",
    "      epsilon=1e-6)(attention2 + attention1)\n",
    "\n",
    "    # 세 번째 서브 레이어 : 2개의 완전연결층\n",
    "    outputs = tf.keras.layers.Dense(units=units, activation='relu')(attention2)\n",
    "    outputs = tf.keras.layers.Dense(units=d_model)(outputs)\n",
    "\n",
    "    # 완전연결층의 결과는 Dropout과 LayerNormalization 수행\n",
    "    outputs = tf.keras.layers.Dropout(rate=dropout)(outputs)\n",
    "    outputs = tf.keras.layers.LayerNormalization(\n",
    "      epsilon=1e-6)(outputs + attention2)\n",
    "\n",
    "    return tf.keras.Model(\n",
    "      inputs=[inputs, enc_outputs, look_ahead_mask, padding_mask],\n",
    "      outputs=outputs,\n",
    "      name=name)"
   ]
  },
  {
   "cell_type": "code",
   "execution_count": 33,
   "id": "74ca065f",
   "metadata": {},
   "outputs": [],
   "source": [
    "def decoder(vocab_size,\n",
    "            num_layers,\n",
    "            units,\n",
    "            d_model,\n",
    "            num_heads,\n",
    "            dropout,\n",
    "            name='decoder'):\n",
    "    inputs = tf.keras.Input(shape=(None,), name='inputs')\n",
    "    enc_outputs = tf.keras.Input(shape=(None, d_model), name='encoder_outputs')\n",
    "    look_ahead_mask = tf.keras.Input(\n",
    "      shape=(1, None, None), name='look_ahead_mask')\n",
    "\n",
    "    # 패딩 마스크\n",
    "    padding_mask = tf.keras.Input(shape=(1, 1, None), name='padding_mask')\n",
    "\n",
    "    # 임베딩 레이어\n",
    "    embeddings = tf.keras.layers.Embedding(vocab_size, d_model)(inputs)\n",
    "    embeddings *= tf.math.sqrt(tf.cast(d_model, tf.float32))\n",
    "\n",
    "    # 포지셔널 인코딩\n",
    "    embeddings = PositionalEncoding(vocab_size, d_model)(embeddings)\n",
    "\n",
    "    # Dropout이라는 훈련을 돕는 테크닉을 수행\n",
    "    outputs = tf.keras.layers.Dropout(rate=dropout)(embeddings)\n",
    "\n",
    "    for i in range(num_layers):\n",
    "        outputs = decoder_layer(\n",
    "            units=units,\n",
    "            d_model=d_model,\n",
    "            num_heads=num_heads,\n",
    "            dropout=dropout,\n",
    "            name='decoder_layer_{}'.format(i),\n",
    "        )(inputs=[outputs, enc_outputs, look_ahead_mask, padding_mask])\n",
    "\n",
    "    return tf.keras.Model(\n",
    "      inputs=[inputs, enc_outputs, look_ahead_mask, padding_mask],\n",
    "      outputs=outputs,\n",
    "      name=name)"
   ]
  },
  {
   "cell_type": "code",
   "execution_count": 34,
   "id": "74b7e581",
   "metadata": {},
   "outputs": [],
   "source": [
    "#이제 트랜스포머 함수 정의!\n",
    "def transformer(vocab_size,num_layers,units,d_model,num_heads,dropout,name=\"transformer\"):\n",
    "    \n",
    "    inputs = tf.keras.Input(shape=(None,), name=\"inputs\")\n",
    "    dec_inputs = tf.keras.Input(shape=(None,), name=\"dec_inputs\")\n",
    "\n",
    "    # 인코더에서 패딩을 위한 마스크\n",
    "    enc_padding_mask = tf.keras.layers.Lambda(\n",
    "      create_padding_mask, output_shape=(1, 1, None),\n",
    "      name='enc_padding_mask')(inputs)  #출력 마스크 형태 지정 (batch_size, 1,1, seq_length 형태로 지정)\n",
    "    # 디코더에서 미래의 토큰을 마스크 하기 위해서 사용합니다.\n",
    "    # 내부적으로 패딩 마스크도 포함되어져 있습니다.\n",
    "    look_ahead_mask = tf.keras.layers.Lambda(\n",
    "      create_lookahead_mask,\n",
    "      output_shape=(1, None, None), # 마스크 형태는 (batch_size, 1, seq_len, seq_len)\n",
    "      name='look_ahead_mask')(dec_inputs)\n",
    "\n",
    "  # 두 번째 어텐션 블록에서 인코더의 벡터들을 마스킹\n",
    "  # 디코더에서 패딩을 위한 마스크\n",
    "    dec_padding_mask = tf.keras.layers.Lambda(\n",
    "        create_padding_mask, output_shape=(1, 1, None),\n",
    "        name='dec_padding_mask')(inputs)\n",
    "\n",
    "  # 인코더\n",
    "    enc_outputs = encoder(\n",
    "      vocab_size=vocab_size,\n",
    "      num_layers=num_layers,\n",
    "      units=units,\n",
    "      d_model=d_model,\n",
    "      num_heads=num_heads,\n",
    "      dropout=dropout,)(inputs=[inputs, enc_padding_mask])\n",
    "\n",
    "  # 디코더\n",
    "    dec_outputs = decoder(\n",
    "      vocab_size=vocab_size,\n",
    "      num_layers=num_layers,\n",
    "      units=units,\n",
    "      d_model=d_model,\n",
    "      num_heads=num_heads,\n",
    "      dropout=dropout,)(inputs=[dec_inputs, enc_outputs, look_ahead_mask, dec_padding_mask])\n",
    "# 완전연결층\n",
    "    outputs = tf.keras.layers.Dense(units=vocab_size, name=\"outputs\")(dec_outputs)\n",
    "    \n",
    "    return tf.keras.Model(inputs=[inputs, dec_inputs], outputs=outputs, name=name)"
   ]
  },
  {
   "attachments": {
    "mermaid-diagram-2024-06-20-152734.png": {
     "image/png": "[encoded data removed]"
    }
   },
   "cell_type": "markdown",
   "id": "937f7a9f",
   "metadata": {},
   "source": [
    "## 머메이드 다이어그램\n",
    "![mermaid-diagram-2024-06-20-152734.png](attachment:mermaid-diagram-2024-06-20-152734.png)"
   ]
  },
  {
   "cell_type": "code",
   "execution_count": 35,
   "id": "b0401124",
   "metadata": {},
   "outputs": [
    {
     "name": "stdout",
     "output_type": "stream",
     "text": [
      "Model: \"transformer\"\n",
      "__________________________________________________________________________________________________\n",
      "Layer (type)                    Output Shape         Param #     Connected to                     \n",
      "==================================================================================================\n",
      "inputs (InputLayer)             [(None, None)]       0                                            \n",
      "__________________________________________________________________________________________________\n",
      "dec_inputs (InputLayer)         [(None, None)]       0                                            \n",
      "__________________________________________________________________________________________________\n",
      "enc_padding_mask (Lambda)       (None, 1, 1, None)   0           inputs[0][0]                     \n",
      "__________________________________________________________________________________________________\n",
      "encoder (Functional)            (None, None, 256)    8716032     inputs[0][0]                     \n",
      "                                                                 enc_padding_mask[0][0]           \n",
      "__________________________________________________________________________________________________\n",
      "look_ahead_mask (Lambda)        (None, 1, None, None 0           dec_inputs[0][0]                 \n",
      "__________________________________________________________________________________________________\n",
      "dec_padding_mask (Lambda)       (None, 1, 1, None)   0           inputs[0][0]                     \n",
      "__________________________________________________________________________________________________\n",
      "decoder (Functional)            (None, None, 256)    10298112    dec_inputs[0][0]                 \n",
      "                                                                 encoder[0][0]                    \n",
      "                                                                 look_ahead_mask[0][0]            \n",
      "                                                                 dec_padding_mask[0][0]           \n",
      "__________________________________________________________________________________________________\n",
      "outputs (Dense)                 (None, None, 21693)  5575101     decoder[0][0]                    \n",
      "==================================================================================================\n",
      "Total params: 24,589,245\n",
      "Trainable params: 24,589,245\n",
      "Non-trainable params: 0\n",
      "__________________________________________________________________________________________________\n"
     ]
    }
   ],
   "source": [
    "# 모델 생성하기\n",
    "\n",
    "tf.keras.backend.clear_session() #현재 세션 초기화하고 메모리 해제. 모델 재정의하거나 새로 생성할 때 유용\n",
    "\n",
    "# 하이퍼파라미터\n",
    "\n",
    "NUM_LAYERS = 6 # 인코더와 디코더의 층의 개수\n",
    "D_MODEL = 256 # 인코더와 디코더 내부의 입, 출력의 고정 차원\n",
    "NUM_HEADS = 8 # 멀티 헤드 어텐션에서의 헤드 수 \n",
    "UNITS = 512 # 피드 포워드 신경망의 은닉층의 크기\n",
    "DROPOUT = 0.2 # 드롭아웃의 비율 증가시키기\n",
    "\n",
    "model = transformer(\n",
    "    vocab_size=VOCAB_SIZE,\n",
    "    num_layers=NUM_LAYERS,\n",
    "    units=UNITS,\n",
    "    d_model=D_MODEL,\n",
    "    num_heads=NUM_HEADS,\n",
    "    dropout=DROPOUT)\n",
    "\n",
    "model.summary()"
   ]
  },
  {
   "cell_type": "code",
   "execution_count": 36,
   "id": "0a8166b4",
   "metadata": {},
   "outputs": [],
   "source": [
    "# 손실함수\n",
    "\n",
    "def loss_function(y_true, y_pred):\n",
    "    y_true = tf.reshape(y_true, shape=(-1, MAX_LENGTH - 1))\n",
    "\n",
    "    loss = tf.keras.losses.SparseCategoricalCrossentropy(\n",
    "      from_logits=True, reduction='none')(y_true, y_pred)\n",
    "\n",
    "    mask = tf.cast(tf.not_equal(y_true, 0), tf.float32)\n",
    "    loss = tf.multiply(loss, mask)\n",
    "    \n",
    "    return tf.reduce_mean(loss)"
   ]
  },
  {
   "cell_type": "code",
   "execution_count": 37,
   "id": "82090af0",
   "metadata": {},
   "outputs": [],
   "source": [
    "class CustomSchedule(tf.keras.optimizers.schedules.LearningRateSchedule):\n",
    "\n",
    "    def __init__(self, d_model, warmup_steps=4000):\n",
    "        super(CustomSchedule, self).__init__()\n",
    "\n",
    "        self.d_model = d_model\n",
    "        self.d_model = tf.cast(self.d_model, tf.float32)\n",
    "\n",
    "        self.warmup_steps = warmup_steps\n",
    "\n",
    "    def __call__(self, step):\n",
    "        arg1 = tf.math.rsqrt(step)\n",
    "        arg2 = step * (self.warmup_steps**-1.5)\n",
    "\n",
    "        return tf.math.rsqrt(self.d_model) * tf.math.minimum(arg1, arg2)"
   ]
  },
  {
   "cell_type": "code",
   "execution_count": 38,
   "id": "b89b40e2",
   "metadata": {},
   "outputs": [],
   "source": [
    "learning_rate = CustomSchedule(D_MODEL)\n",
    "\n",
    "optimizer = tf.keras.optimizers.Adam(\n",
    "    learning_rate, beta_1=0.9, beta_2=0.98, epsilon=1e-9)\n",
    "\n",
    "def accuracy(y_true, y_pred):\n",
    "    y_true = tf.reshape(y_true, shape=(-1, MAX_LENGTH - 1))\n",
    "    return tf.keras.metrics.sparse_categorical_accuracy(y_true, y_pred)\n",
    "\n",
    "model.compile(optimizer=optimizer, loss=loss_function, metrics=[accuracy])"
   ]
  },
  {
   "cell_type": "code",
   "execution_count": 39,
   "id": "31ca76ac",
   "metadata": {},
   "outputs": [
    {
     "name": "stdout",
     "output_type": "stream",
     "text": [
      "Epoch 1/20\n",
      "358/358 [==============================] - 38s 62ms/step - loss: 4.6817 - accuracy: 0.0954\n",
      "Epoch 2/20\n",
      "358/358 [==============================] - 22s 61ms/step - loss: 3.1895 - accuracy: 0.1934\n",
      "Epoch 3/20\n",
      "358/358 [==============================] - 22s 61ms/step - loss: 2.9194 - accuracy: 0.1964\n",
      "Epoch 4/20\n",
      "358/358 [==============================] - 22s 61ms/step - loss: 2.8183 - accuracy: 0.1969\n",
      "Epoch 5/20\n",
      "358/358 [==============================] - 22s 61ms/step - loss: 2.7500 - accuracy: 0.1997\n",
      "Epoch 6/20\n",
      "358/358 [==============================] - 22s 61ms/step - loss: 2.6989 - accuracy: 0.2029\n",
      "Epoch 7/20\n",
      "358/358 [==============================] - 22s 61ms/step - loss: 2.6514 - accuracy: 0.2074\n",
      "Epoch 8/20\n",
      "358/358 [==============================] - 22s 61ms/step - loss: 2.6141 - accuracy: 0.2090\n",
      "Epoch 9/20\n",
      "358/358 [==============================] - 22s 61ms/step - loss: 2.5924 - accuracy: 0.2097\n",
      "Epoch 10/20\n",
      "358/358 [==============================] - 22s 61ms/step - loss: 2.5646 - accuracy: 0.2118\n",
      "Epoch 11/20\n",
      "358/358 [==============================] - 22s 61ms/step - loss: 2.5437 - accuracy: 0.2130\n",
      "Epoch 12/20\n",
      "358/358 [==============================] - 22s 60ms/step - loss: 2.5276 - accuracy: 0.2083\n",
      "Epoch 13/20\n",
      "358/358 [==============================] - 22s 61ms/step - loss: 2.5932 - accuracy: 0.1646\n",
      "Epoch 14/20\n",
      "358/358 [==============================] - 22s 60ms/step - loss: 2.4795 - accuracy: 0.2085\n",
      "Epoch 15/20\n",
      "358/358 [==============================] - 22s 61ms/step - loss: 2.4126 - accuracy: 0.2196\n",
      "Epoch 16/20\n",
      "358/358 [==============================] - 22s 61ms/step - loss: 2.3630 - accuracy: 0.2223\n",
      "Epoch 17/20\n",
      "358/358 [==============================] - 22s 60ms/step - loss: 2.3195 - accuracy: 0.2256\n",
      "Epoch 18/20\n",
      "358/358 [==============================] - 22s 60ms/step - loss: 2.2755 - accuracy: 0.2281\n",
      "Epoch 19/20\n",
      "358/358 [==============================] - 22s 60ms/step - loss: 2.2383 - accuracy: 0.2310\n",
      "Epoch 20/20\n",
      "358/358 [==============================] - 22s 60ms/step - loss: 2.1993 - accuracy: 0.2334\n"
     ]
    },
    {
     "data": {
      "text/plain": [
       "<keras.callbacks.History at 0x7bfd20c4ba60>"
      ]
     },
     "execution_count": 39,
     "metadata": {},
     "output_type": "execute_result"
    }
   ],
   "source": [
    "EPOCHS = 20\n",
    "model.fit(dataset, epochs=EPOCHS, verbose=1)"
   ]
  },
  {
   "cell_type": "code",
   "execution_count": 40,
   "id": "0a3eec4f",
   "metadata": {},
   "outputs": [],
   "source": [
    "def decoder_inference(sentence):\n",
    "    sentence = preprocess_sentence(sentence)\n",
    "\n",
    "    # 입력된 문장을 정수 인코딩 후, 시작 토큰과 종료 토큰을 앞뒤로 추가.\n",
    "    # ex) Where have you been? → [[8331   86   30    5 1059    7 8332]]\n",
    "    sentence = tf.expand_dims(\n",
    "      START_TOKEN + tokenizer.encode(sentence) + END_TOKEN, axis=0)\n",
    "\n",
    "    # 디코더의 현재까지의 예측한 출력 시퀀스가 지속적으로 저장되는 변수.\n",
    "    # 처음에는 예측한 내용이 없음으로 시작 토큰만 별도 저장. ex) 8331\n",
    "    output_sequence = tf.expand_dims(START_TOKEN, 0)\n",
    "\n",
    "    # 디코더의 인퍼런스 단계\n",
    "    for i in range(MAX_LENGTH):\n",
    "        predictions = model(inputs=[sentence, output_sequence], training=False)\n",
    "        predictions = predictions[:, -1:, :]\n",
    "\n",
    "    # 현재 예측한 단어의 정수\n",
    "        predicted_id = tf.cast(tf.argmax(predictions, axis=-1), tf.int32)\n",
    "\n",
    "    # 만약 현재 예측한 단어가 종료 토큰이라면 for문을 종료\n",
    "        if tf.equal(predicted_id, END_TOKEN[0]):\n",
    "            break\n",
    "\n",
    "    # 예측한 단어들은 지속적으로 output_sequence에 추가됩니다.\n",
    "    # 이 output_sequence는 다시 디코더의 입력이 됩니다.\n",
    "        output_sequence = tf.concat([output_sequence, predicted_id], axis=-1)\n",
    "\n",
    "    return tf.squeeze(output_sequence, axis=0)"
   ]
  },
  {
   "cell_type": "code",
   "execution_count": 41,
   "id": "814f6a58",
   "metadata": {},
   "outputs": [],
   "source": [
    "def sentence_generation(sentence):\n",
    "    # 입력 문장에 대해서 디코더를 동작 시켜 예측된 정수 시퀀스를 리턴받습니다.\n",
    "    prediction = decoder_inference(sentence)\n",
    "\n",
    "    # 정수 시퀀스를 다시 텍스트 시퀀스로 변환합니다.\n",
    "    predicted_sentence = tokenizer.decode(\n",
    "      [i for i in prediction if i < tokenizer.vocab_size])\n",
    "\n",
    "    print('입력 : {}'.format(sentence))\n",
    "    print('출력 : {}'.format(predicted_sentence))\n",
    "\n",
    "    return predicted_sentence"
   ]
  },
  {
   "cell_type": "markdown",
   "id": "34128cd4",
   "metadata": {},
   "source": [
    "## 20에폭\n"
   ]
  },
  {
   "cell_type": "code",
   "execution_count": 42,
   "id": "94a7e8f1",
   "metadata": {},
   "outputs": [
    {
     "name": "stdout",
     "output_type": "stream",
     "text": [
      "입력 : 요즘 너무 힘들어요\n",
      "출력 : 마음이 좀 괜찮아졌길 바랄게요 .\n"
     ]
    },
    {
     "data": {
      "text/plain": [
       "'마음이 좀 괜찮아졌길 바랄게요 .'"
      ]
     },
     "execution_count": 42,
     "metadata": {},
     "output_type": "execute_result"
    }
   ],
   "source": [
    "sentence_generation('요즘 너무 힘들어요')"
   ]
  },
  {
   "cell_type": "code",
   "execution_count": 43,
   "id": "9af4fa6d",
   "metadata": {},
   "outputs": [
    {
     "name": "stdout",
     "output_type": "stream",
     "text": [
      "입력 : 결혼 못할거 같아요\n",
      "출력 : 사랑은 마음이 마음이 마음이 마음이 마음이 마음이 마음이 마음이 마음이 마음이 \n"
     ]
    },
    {
     "data": {
      "text/plain": [
       "'사랑은 마음이 마음이 마음이 마음이 마음이 마음이 마음이 마음이 마음이 마음이 '"
      ]
     },
     "execution_count": 43,
     "metadata": {},
     "output_type": "execute_result"
    }
   ],
   "source": [
    "sentence_generation('결혼 못할거 같아요')"
   ]
  },
  {
   "cell_type": "code",
   "execution_count": 44,
   "id": "4f2718f4",
   "metadata": {},
   "outputs": [
    {
     "name": "stdout",
     "output_type": "stream",
     "text": [
      "입력 : 어떻게 하면 남자친구가 생길까요?\n",
      "출력 : 이제 좀 놓아주세요 .\n"
     ]
    },
    {
     "data": {
      "text/plain": [
       "'이제 좀 놓아주세요 .'"
      ]
     },
     "execution_count": 44,
     "metadata": {},
     "output_type": "execute_result"
    }
   ],
   "source": [
    "sentence_generation('어떻게 하면 남자친구가 생길까요?')"
   ]
  },
  {
   "cell_type": "code",
   "execution_count": 45,
   "id": "2cb3bc7d",
   "metadata": {},
   "outputs": [
    {
     "name": "stdout",
     "output_type": "stream",
     "text": [
      "입력 : 점심 메뉴 추천해줘\n",
      "출력 : 마음이 좀 괜찮아졌길 바랄게요 .\n"
     ]
    },
    {
     "data": {
      "text/plain": [
       "'마음이 좀 괜찮아졌길 바랄게요 .'"
      ]
     },
     "execution_count": 45,
     "metadata": {},
     "output_type": "execute_result"
    }
   ],
   "source": [
    "sentence_generation('점심 메뉴 추천해줘')"
   ]
  },
  {
   "cell_type": "markdown",
   "id": "5eedf2d4",
   "metadata": {},
   "source": [
    "## 기존 배치_64, 인코딩 레이어 4개, 10에폭 + 40 추가"
   ]
  },
  {
   "cell_type": "code",
   "execution_count": 83,
   "id": "ecd4b61f",
   "metadata": {},
   "outputs": [
    {
     "name": "stdout",
     "output_type": "stream",
     "text": [
      "입력 : 요즘 너무 힘들어요\n",
      "출력 : 잠시 눈을 감고 휴식을 취해보세요 .\n"
     ]
    },
    {
     "data": {
      "text/plain": [
       "'잠시 눈을 감고 휴식을 취해보세요 .'"
      ]
     },
     "execution_count": 83,
     "metadata": {},
     "output_type": "execute_result"
    }
   ],
   "source": [
    "sentence_generation('요즘 너무 힘들어요')"
   ]
  },
  {
   "cell_type": "code",
   "execution_count": 84,
   "id": "6055f14c",
   "metadata": {},
   "outputs": [
    {
     "name": "stdout",
     "output_type": "stream",
     "text": [
      "입력 : 결혼 못할거 같아요\n",
      "출력 : 따뜻한 계획 만 해요 .\n"
     ]
    },
    {
     "data": {
      "text/plain": [
       "'따뜻한 계획 만 해요 .'"
      ]
     },
     "execution_count": 84,
     "metadata": {},
     "output_type": "execute_result"
    }
   ],
   "source": [
    "sentence_generation('결혼 못할거 같아요')"
   ]
  },
  {
   "cell_type": "code",
   "execution_count": 85,
   "id": "53056e82",
   "metadata": {},
   "outputs": [
    {
     "name": "stdout",
     "output_type": "stream",
     "text": [
      "입력 : 어떻게 하면 남자친구가 생길까요?\n",
      "출력 : 꾸준히 만나다보면 생길 수 있어요 .\n"
     ]
    },
    {
     "data": {
      "text/plain": [
       "'꾸준히 만나다보면 생길 수 있어요 .'"
      ]
     },
     "execution_count": 85,
     "metadata": {},
     "output_type": "execute_result"
    }
   ],
   "source": [
    "sentence_generation('어떻게 하면 남자친구가 생길까요?')"
   ]
  },
  {
   "cell_type": "code",
   "execution_count": 86,
   "id": "ccf44928",
   "metadata": {},
   "outputs": [
    {
     "name": "stdout",
     "output_type": "stream",
     "text": [
      "입력 : 점심 메뉴 추천해줘\n",
      "출력 : 냉장고 파먹기 해보세요 .\n"
     ]
    },
    {
     "data": {
      "text/plain": [
       "'냉장고 파먹기 해보세요 .'"
      ]
     },
     "execution_count": 86,
     "metadata": {},
     "output_type": "execute_result"
    }
   ],
   "source": [
    "sentence_generation('점심 메뉴 추천해줘')"
   ]
  },
  {
   "cell_type": "code",
   "execution_count": 89,
   "id": "0620541e",
   "metadata": {},
   "outputs": [
    {
     "name": "stdout",
     "output_type": "stream",
     "text": [
      "입력 : 포도 먹고싶어\n",
      "출력 : 고백에 성별은 없어죠 .\n"
     ]
    },
    {
     "data": {
      "text/plain": [
       "'고백에 성별은 없어죠 .'"
      ]
     },
     "execution_count": 89,
     "metadata": {},
     "output_type": "execute_result"
    }
   ],
   "source": [
    "sentence_generation('포도 먹고싶어')"
   ]
  },
  {
   "cell_type": "code",
   "execution_count": 90,
   "id": "d767e5b3",
   "metadata": {},
   "outputs": [
    {
     "name": "stdout",
     "output_type": "stream",
     "text": [
      "입력 : 마라탕 좋아해?\n",
      "출력 : 특별한 적이고 고민이 줄게요 .\n"
     ]
    },
    {
     "data": {
      "text/plain": [
       "'특별한 적이고 고민이 줄게요 .'"
      ]
     },
     "execution_count": 90,
     "metadata": {},
     "output_type": "execute_result"
    }
   ],
   "source": [
    "sentence_generation('마라탕 좋아해?')"
   ]
  },
  {
   "cell_type": "markdown",
   "id": "3cc8100e",
   "metadata": {},
   "source": [
    "# 회고\n",
    "\n",
    "- 챗봇은 무슨 데이터를 학습했냐에 따라 대답의 컨텐츠에 큰 영향을 받는다. \n",
    "- batch_size가 큰게 많이 중요한가보다.\n"
   ]
  },
  {
   "cell_type": "code",
   "execution_count": null,
   "id": "86b6a19b",
   "metadata": {},
   "outputs": [],
   "source": []
  }
 ],
 "metadata": {
  "kernelspec": {
   "display_name": "Python 3 (ipykernel)",
   "language": "python",
   "name": "python3"
  },
  "language_info": {
   "codemirror_mode": {
    "name": "ipython",
    "version": 3
   },
   "file_extension": ".py",
   "mimetype": "text/x-python",
   "name": "python",
   "nbconvert_exporter": "python",
   "pygments_lexer": "ipython3",
   "version": "3.9.7"
  }
 },
 "nbformat": 4,
 "nbformat_minor": 5
}
